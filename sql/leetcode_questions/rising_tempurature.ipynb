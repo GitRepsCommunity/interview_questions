{
 "cells": [
  {
   "cell_type": "code",
   "execution_count": 1,
   "metadata": {},
   "outputs": [
    {
     "name": "stdout",
     "output_type": "stream",
     "text": [
      "Analytics Packages Imported\n"
     ]
    }
   ],
   "source": [
    "import pandas as pd\n",
    "import seaborn as sns\n",
    "import numpy as np\n",
    "import matplotlib.pyplot as plt\n",
    "import scipy\n",
    "import statsmodels.api as sm \n",
    "import datetime\n",
    "import os\n",
    "\n",
    "print('Analytics Packages Imported')"
   ]
  },
  {
   "cell_type": "code",
   "execution_count": 2,
   "metadata": {},
   "outputs": [
    {
     "data": {
      "text/html": [
       "<div>\n",
       "<style scoped>\n",
       "    .dataframe tbody tr th:only-of-type {\n",
       "        vertical-align: middle;\n",
       "    }\n",
       "\n",
       "    .dataframe tbody tr th {\n",
       "        vertical-align: top;\n",
       "    }\n",
       "\n",
       "    .dataframe thead th {\n",
       "        text-align: right;\n",
       "    }\n",
       "</style>\n",
       "<table border=\"1\" class=\"dataframe\">\n",
       "  <thead>\n",
       "    <tr style=\"text-align: right;\">\n",
       "      <th></th>\n",
       "      <th>id</th>\n",
       "      <th>RecordDate</th>\n",
       "      <th>tempurature</th>\n",
       "    </tr>\n",
       "  </thead>\n",
       "  <tbody>\n",
       "    <tr>\n",
       "      <th>0</th>\n",
       "      <td>1</td>\n",
       "      <td>2015-01-01</td>\n",
       "      <td>10</td>\n",
       "    </tr>\n",
       "    <tr>\n",
       "      <th>1</th>\n",
       "      <td>2</td>\n",
       "      <td>2015-01-02</td>\n",
       "      <td>25</td>\n",
       "    </tr>\n",
       "    <tr>\n",
       "      <th>2</th>\n",
       "      <td>3</td>\n",
       "      <td>2015-01-03</td>\n",
       "      <td>20</td>\n",
       "    </tr>\n",
       "    <tr>\n",
       "      <th>3</th>\n",
       "      <td>4</td>\n",
       "      <td>2015-01-04</td>\n",
       "      <td>30</td>\n",
       "    </tr>\n",
       "  </tbody>\n",
       "</table>\n",
       "</div>"
      ],
      "text/plain": [
       "   id  RecordDate  tempurature\n",
       "0   1  2015-01-01           10\n",
       "1   2  2015-01-02           25\n",
       "2   3  2015-01-03           20\n",
       "3   4  2015-01-04           30"
      ]
     },
     "execution_count": 2,
     "metadata": {},
     "output_type": "execute_result"
    }
   ],
   "source": [
    "data = [\n",
    "    (1,'2015-01-01',10),\n",
    "    (2,'2015-01-02',25),\n",
    "    (3,'2015-01-03',20),\n",
    "    (4,'2015-01-04',30),\n",
    "]\n",
    "\n",
    "# Define the column headers\n",
    "\n",
    "data_columns = ['id','RecordDate','tempurature']\n",
    "\n",
    "# Create a DataFrame with column headers\n",
    "\n",
    "weather = pd.DataFrame(data, columns=data_columns)\n",
    "\n",
    "weather"
   ]
  },
  {
   "cell_type": "code",
   "execution_count": 3,
   "metadata": {},
   "outputs": [
    {
     "name": "stdout",
     "output_type": "stream",
     "text": [
      "   id RecordDate  tempurature\n",
      "0   1 2015-01-01           10\n",
      "1   2 2015-01-02           25\n",
      "2   3 2015-01-03           20\n",
      "3   4 2015-01-04           30\n",
      "id                      int64\n",
      "RecordDate     datetime64[ns]\n",
      "tempurature             int64\n",
      "dtype: object\n"
     ]
    }
   ],
   "source": [
    "# Check the data type of the DataFrame\n",
    "\n",
    "weather.dtypes\n",
    "\n",
    "# Cobvert the RecordDate column to a datetime object\n",
    "\n",
    "weather['RecordDate'] = pd.to_datetime(weather['RecordDate'])\n",
    "\n",
    "print(weather)\n",
    "print(weather.dtypes)"
   ]
  },
  {
   "cell_type": "code",
   "execution_count": 4,
   "metadata": {},
   "outputs": [
    {
     "name": "stdout",
     "output_type": "stream",
     "text": [
      "   id RecordDate  tempurature\n",
      "0   1 2015-01-01           10\n",
      "1   2 2015-01-02           25\n",
      "2   3 2015-01-03           20\n",
      "3   4 2015-01-04           30\n",
      "   id RecordDate  tempurature\n",
      "0   1 2015-01-02           10\n",
      "1   2 2015-01-03           25\n",
      "2   3 2015-01-04           20\n",
      "3   4 2015-01-05           30\n"
     ]
    }
   ],
   "source": [
    "# Create a shifted dataframe\n",
    "\n",
    "weather_shifted = weather.copy()\n",
    "print(weather_shifted)\n",
    "weather_shifted['RecordDate'] = weather_shifted['RecordDate'] + pd.to_timedelta(1, unit='D')\n",
    "print(weather_shifted)"
   ]
  },
  {
   "cell_type": "code",
   "execution_count": 5,
   "metadata": {},
   "outputs": [
    {
     "name": "stdout",
     "output_type": "stream",
     "text": [
      "   id_today RecordDate  tempurature_today  id_yesterday  tempurature_yesterday\n",
      "0         2 2015-01-02                 25             1                     10\n",
      "1         3 2015-01-03                 20             2                     25\n",
      "2         4 2015-01-04                 30             3                     20\n"
     ]
    }
   ],
   "source": [
    "# Merge the dataframes to find consecutive dates\n",
    "\n",
    "merged_df = pd.merge(weather, weather_shifted, on='RecordDate', suffixes=('_today', '_yesterday'))\n",
    "\n",
    "print(merged_df)"
   ]
  },
  {
   "cell_type": "code",
   "execution_count": 9,
   "metadata": {},
   "outputs": [
    {
     "name": "stdout",
     "output_type": "stream",
     "text": [
      "0    2\n",
      "2    4\n",
      "Name: id_today, dtype: int64\n",
      "0    2\n",
      "2    4\n",
      "Name: Id, dtype: int64\n"
     ]
    }
   ],
   "source": [
    "# Find the rows where the temperature for the current day is greater than the previous day\n",
    "\n",
    "result = merged_df[merged_df['tempurature_today'] > merged_df['tempurature_yesterday']]['id_today']\n",
    "print(result)\n",
    "result = result.rename('Id')\n",
    "print(result)"
   ]
  },
  {
   "cell_type": "code",
   "execution_count": 10,
   "metadata": {},
   "outputs": [
    {
     "name": "stdout",
     "output_type": "stream",
     "text": [
      " Id\n",
      "  2\n",
      "  4\n"
     ]
    }
   ],
   "source": [
    "result_df = result.to_frame().to_string(header=True, index=False)\n",
    "print(result_df)"
   ]
  }
 ],
 "metadata": {
  "kernelspec": {
   "display_name": "base",
   "language": "python",
   "name": "python3"
  },
  "language_info": {
   "codemirror_mode": {
    "name": "ipython",
    "version": 3
   },
   "file_extension": ".py",
   "mimetype": "text/x-python",
   "name": "python",
   "nbconvert_exporter": "python",
   "pygments_lexer": "ipython3",
   "version": "3.11.7"
  }
 },
 "nbformat": 4,
 "nbformat_minor": 2
}
